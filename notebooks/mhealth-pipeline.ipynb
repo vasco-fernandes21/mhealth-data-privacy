{
 "cells": [
  {
   "cell_type": "markdown",
   "id": "08ad70d2",
   "metadata": {
    "id": "header"
   },
   "source": [
    "# 🚀 mHealth Privacy Experiments - Optimized Pipeline\n",
    "\n",
    "**Simplified training pipeline using project scripts**\n",
    "\n",
    "- ✅ Setup (Drive, Clone, Dependencies)\n",
    "- ✅ Update/Reclonar anytime\n",
    "- ✅ Configure & Run experiments\n",
    "- ✅ Load & Analyze results\n",
    "\n",
    "**Author** Eduardo Barbosa, Filipe Correia, Vasco Fernandes  \n",
    "**Version:** 2.0 (Optimized)  \n",
    "**Date:** October 2025"
   ]
  },
  {
   "cell_type": "markdown",
   "id": "4e3c362b",
   "metadata": {
    "id": "section-01"
   },
   "source": [
    "## 1️⃣ SETUP: Mount Drive & Clone Repository"
   ]
  },
  {
   "cell_type": "code",
   "execution_count": null,
   "id": "aa8187f8",
   "metadata": {
    "colab": {
     "base_uri": "https://localhost:8080/"
    },
    "id": "setup"
   },
   "outputs": [],
   "source": [
    "from google.colab import drive\n",
    "from pathlib import Path\n",
    "import os\n",
    "import sys\n",
    "import subprocess\n",
    "import shutil\n",
    "\n",
    "# Mount Drive\n",
    "drive.mount('/content/drive', force_remount=True)\n",
    "\n",
    "# Setup paths\n",
    "DRIVE_BASE = Path('/content/drive/MyDrive')\n",
    "DATA_DRIVE = DRIVE_BASE / 'mhealth-data/data'\n",
    "PROJECT_DIR = Path('/content/mhealth-data-privacy')\n",
    "REPO_URL = 'https://github.com/vasco-fernandes21/mhealth-data-privacy.git'\n",
    "\n",
    "print('📁 Paths Configuration')\n",
    "print(f'  Project: {PROJECT_DIR}')\n",
    "print(f'  Data (Drive): {DATA_DRIVE}')\n",
    "print(f'  Data exists: {DATA_DRIVE.exists()}')\n",
    "\n",
    "# Clone or update repository\n",
    "if not PROJECT_DIR.exists():\n",
    "    print(f'\\n📥 Cloning repository...')\n",
    "    result = subprocess.run(['git', 'clone', REPO_URL, str(PROJECT_DIR)],\n",
    "                          capture_output=True, text=True)\n",
    "    if result.returncode == 0:\n",
    "        print('✅ Repository cloned')\n",
    "    else:\n",
    "        print(f'❌ Clone failed: {result.stderr}')\n",
    "else:\n",
    "    print('✅ Project already exists')\n",
    "    os.chdir(PROJECT_DIR)\n",
    "    result = subprocess.run(['git', 'pull'], capture_output=True, text=True)\n",
    "    if result.returncode == 0:\n",
    "        print('✅ Repository updated')\n",
    "\n",
    "os.chdir(PROJECT_DIR)\n",
    "\n",
    "# Create symlink for data\n",
    "data_link = PROJECT_DIR / 'data'\n",
    "if not data_link.exists() and DATA_DRIVE.exists():\n",
    "    print(f'\\n🔗 Creating symlink: {data_link} → {DATA_DRIVE}')\n",
    "    os.symlink(DATA_DRIVE, data_link)\n",
    "    print('✅ Symlink created')\n",
    "elif data_link.is_symlink():\n",
    "    print(f'\\n🔗 Symlink already exists')\n",
    "\n",
    "print(f'\\n✅ Setup complete!')\n",
    "print(f'   Working directory: {PROJECT_DIR}')"
   ]
  },
  {
   "cell_type": "markdown",
   "id": "b9090b15",
   "metadata": {
    "id": "section-02"
   },
   "source": [
    "## 2️⃣ SETUP: Install Dependencies"
   ]
  },
  {
   "cell_type": "code",
   "execution_count": null,
   "id": "61fe1b3f",
   "metadata": {
    "colab": {
     "base_uri": "https://localhost:8080/"
    },
    "id": "deps"
   },
   "outputs": [],
   "source": [
    "!pip install -q opacus scikit-learn pyyaml tqdm pyedflib mne\n",
    "\n",
    "import torch\n",
    "import json\n",
    "import time\n",
    "from datetime import datetime\n",
    "import pandas as pd\n",
    "import numpy as np\n",
    "\n",
    "# Setup device\n",
    "DEVICE = 'cuda' if torch.cuda.is_available() else 'cpu'\n",
    "RESULTS_DIR = PROJECT_DIR / 'results'\n",
    "RESULTS_DIR.mkdir(exist_ok=True)\n",
    "\n",
    "print('✅ Dependencies installed')\n",
    "print(f'\\n📊 Environment:')\n",
    "print(f'   Device: {DEVICE}')\n",
    "if DEVICE == 'cuda':\n",
    "    print(f'   GPU: {torch.cuda.get_device_name(0)}')\n",
    "    print(f'   VRAM: {torch.cuda.get_device_properties(0).total_memory / 1024**3:.1f} GB')"
   ]
  },
  {
   "cell_type": "markdown",
   "id": "e10c8045",
   "metadata": {
    "id": "section-03"
   },
   "source": [
    "## 3️⃣ UPDATE: Repository (Anytime)"
   ]
  },
  {
   "cell_type": "code",
   "execution_count": null,
   "id": "e9e82fe8",
   "metadata": {
    "id": "update"
   },
   "outputs": [],
   "source": [
    "def quick_update_menu():\n",
    "    \"\"\"Interactive menu to update repository.\"\"\"\n",
    "    \n",
    "    print(f\"\\n{'='*70}\")\n",
    "    print(\"🔄 REPOSITORY UPDATE MENU\")\n",
    "    print(f\"{'='*70}\")\n",
    "    print(\"\\nOptions:\")\n",
    "    print(\"  1️⃣  git pull (update only)\")\n",
    "    print(\"  2️⃣  git reset --hard (discard changes)\")\n",
    "    print(\"  3️⃣  Reclone (delete + fresh clone)\")\n",
    "    print(\"  0️⃣  Cancel\")\n",
    "    \n",
    "    choice = input(\"\\nChoose (0-3): \").strip()\n",
    "    \n",
    "    if choice == '1':\n",
    "        os.chdir(PROJECT_DIR)\n",
    "        result = subprocess.run(['git', 'pull'], capture_output=True, text=True)\n",
    "        print('✅ Pull successful' if result.returncode == 0 else f'❌ Failed: {result.stderr}')\n",
    "    elif choice == '2':\n",
    "        os.chdir(PROJECT_DIR)\n",
    "        result = subprocess.run(['git', 'reset', '--hard', 'origin/main'], capture_output=True, text=True)\n",
    "        print('✅ Reset successful' if result.returncode == 0 else f'❌ Failed: {result.stderr}')\n",
    "    elif choice == '3':\n",
    "        if PROJECT_DIR.exists():\n",
    "            shutil.rmtree(PROJECT_DIR)\n",
    "        subprocess.run(['git', 'clone', REPO_URL, str(PROJECT_DIR)])\n",
    "        os.symlink(DATA_DRIVE, PROJECT_DIR / 'data')\n",
    "        print('✅ Reclone complete')\n",
    "    elif choice != '0':\n",
    "        print(\"Invalid choice\")\n",
    "\n",
    "print('✅ Update functions loaded')\n",
    "print('Usage: quick_update_menu()')"
   ]
  },
  {
   "cell_type": "markdown",
   "id": "fb4f944a",
   "metadata": {
    "id": "section-04"
   },
   "source": [
    "## 4️⃣ CONFIG: Experiment Settings"
   ]
  },
  {
   "cell_type": "code",
   "execution_count": null,
   "id": "c6a6a1c7",
   "metadata": {
    "colab": {
     "base_uri": "https://localhost:8080/"
    },
    "id": "config"
   },
   "outputs": [],
   "source": [
    "# ============================================================================\n",
    "# ⚙️ CONFIGURE EXPERIMENTS HERE\n",
    "# ============================================================================\n",
    "\n",
    "# Which scenarios to run\n",
    "SCENARIO = 'baseline'           # Options: baseline, dp, fl, fl_dp, all\n",
    "\n",
    "# Filters\n",
    "TAGS = 'tier1'                  # e.g., 'tier1' or '' (empty = no filter)\n",
    "DATASETS = 'wesad'              # e.g., 'wesad', 'sleep-edf' or '' (empty = all)\n",
    "N_EXPERIMENTS = None            # e.g., 3 (limit to first N) or None (all)\n",
    "\n",
    "# Execution\n",
    "DRY_RUN = False                 # True = show commands only\n",
    "AUTO_MODE = True                # True = skip confirmation\n",
    "\n",
    "# ============================================================================\n",
    "\n",
    "print('⚙️ CONFIGURATION')\n",
    "print('='*70)\n",
    "print(f'Scenario: {SCENARIO}')\n",
    "print(f'Tags: {TAGS if TAGS else \"(none)\"}')\n",
    "print(f'Datasets: {DATASETS if DATASETS else \"(all)\"}')\n",
    "print(f'Limit experiments: {N_EXPERIMENTS if N_EXPERIMENTS else \"(no limit)\"}')\n",
    "print(f'Dry run: {DRY_RUN}')\n",
    "print(f'Auto mode: {AUTO_MODE}')\n",
    "print('='*70)"
   ]
  },
  {
   "cell_type": "markdown",
   "id": "fb5ad3b6",
   "metadata": {
    "id": "section-05"
   },
   "source": [
    "## 5️⃣ EXECUTE: Run Experiments"
   ]
  },
  {
   "cell_type": "code",
   "execution_count": null,
   "id": "72fbce69",
   "metadata": {
    "colab": {
     "base_uri": "https://localhost:8080/",
     "height": 800
    },
    "id": "run"
   },
   "outputs": [],
   "source": [
    "# Build command\n",
    "cmd = [\n",
    "    'python', 'experiments/run_experiments.py',\n",
    "    '--scenario', SCENARIO,\n",
    "    '--device', DEVICE,\n",
    "    '--results_dir', str(RESULTS_DIR)\n",
    "]\n",
    "\n",
    "# Add filters\n",
    "if TAGS:\n",
    "    cmd += ['--tags', TAGS]\n",
    "if DATASETS:\n",
    "    cmd += ['--datasets', DATASETS]\n",
    "if N_EXPERIMENTS:\n",
    "    cmd += ['--n_experiments', str(N_EXPERIMENTS)]\n",
    "if DRY_RUN:\n",
    "    # Note: DRY_RUN not implemented in run_experiments.py, remove if not needed\n",
    "    pass\n",
    "if AUTO_MODE:\n",
    "    cmd += ['--auto']\n",
    "\n",
    "print('\\n' + '='*70)\n",
    "print('🚀 RUNNING EXPERIMENTS')\n",
    "print('='*70)\n",
    "print(f'\\nCommand: {\" \".join(cmd)}\\n')\n",
    "\n",
    "# Execute\n",
    "result = subprocess.run(cmd, cwd=str(PROJECT_DIR))\n",
    "\n",
    "if result.returncode == 0:\n",
    "    print('\\n✅ Experiments completed successfully')\n",
    "else:\n",
    "    print(f'\\n❌ Experiments failed (exit code: {result.returncode})')"
   ]
  },
  {
   "cell_type": "markdown",
   "id": "a6a7f2d8",
   "metadata": {
    "id": "section-06"
   },
   "source": [
    "## 6️⃣ RESULTS: Load & Analyze"
   ]
  },
  {
   "cell_type": "code",
   "execution_count": null,
   "id": "54a67b8c",
   "metadata": {
    "colab": {
     "base_uri": "https://localhost:8080/"
    },
    "id": "results"
   },
   "outputs": [],
   "source": [
    "# Load results\n",
    "results_file = RESULTS_DIR / 'experiments_log.json'\n",
    "\n",
    "if results_file.exists():\n",
    "    with open(results_file) as f:\n",
    "        results = json.load(f)\n",
    "    \n",
    "    print('\\n' + '='*70)\n",
    "    print('📊 RESULTS SUMMARY')\n",
    "    print('='*70)\n",
    "    \n",
    "    print(f'\\nTimestamp: {results[\"timestamp\"]}')\n",
    "    print(f'Total experiments: {results[\"total\"]}')\n",
    "    print(f'Successful: {results[\"successful\"]} ✅')\n",
    "    print(f'Failed: {results[\"failed\"]} ❌')\n",
    "    print(f'Success rate: {results[\"successful\"]/results[\"total\"]*100:.1f}%')\n",
    "    print(f'Total time: {results[\"total_time_hours\"]:.2f} hours')\n",
    "    \n",
    "    # Convert to DataFrame\n",
    "    df = pd.DataFrame(results['results'])\n",
    "    \n",
    "    print(f'\\nDetailed Results:')\n",
    "    print(df[['name', 'method', 'dataset', 'seed', 'success', 'time_seconds']].to_string(index=False))\n",
    "    \n",
    "    print(f'\\n{\"=\"*70}')\n",
    "else:\n",
    "    print('❌ Results file not found')"
   ]
  },
  {
   "cell_type": "markdown",
   "id": "137d7852",
   "metadata": {
    "id": "section-07"
   },
   "source": [
    "## 7️⃣ DOWNLOAD: Results"
   ]
  },
  {
   "cell_type": "code",
   "execution_count": null,
   "id": "2fcc28c2",
   "metadata": {
    "id": "download"
   },
   "outputs": [],
   "source": [
    "from google.colab import files\n",
    "\n",
    "print('\\n📥 DOWNLOADING RESULTS')\n",
    "print('='*70)\n",
    "\n",
    "# Download JSON log\n",
    "if results_file.exists():\n",
    "    print(f'\\nDownloading: experiments_log.json')\n",
    "    files.download(str(results_file))\n",
    "\n",
    "# Create archive of all results\n",
    "if RESULTS_DIR.exists() and list(RESULTS_DIR.glob('*')):\n",
    "    print(f'Creating archive...')\n",
    "    archive = shutil.make_archive('/tmp/mhealth_results', 'zip', RESULTS_DIR)\n",
    "    print(f'Downloading: mhealth_results.zip')\n",
    "    files.download(archive)\n",
    "\n",
    "print(f'\\n✅ Download complete!')\n",
    "print('='*70)"
   ]
  },
  {
   "cell_type": "markdown",
   "id": "168f2e70",
   "metadata": {
    "id": "section-08"
   },
   "source": [
    "## 8️⃣ UTILITIES: Helper Functions"
   ]
  },
  {
   "cell_type": "code",
   "execution_count": null,
   "id": "0fa35715",
   "metadata": {
    "id": "utils"
   },
   "outputs": [],
   "source": [
    "def show_scenarios():\n",
    "    \"\"\"List available scenarios.\"\"\"\n",
    "    import yaml\n",
    "    \n",
    "    scenarios_dir = PROJECT_DIR / 'experiments' / 'scenarios'\n",
    "    yaml_files = list(scenarios_dir.glob('*.yaml'))\n",
    "    \n",
    "    print(f'\\n📋 Available Scenarios')\n",
    "    for f in sorted(yaml_files):\n",
    "        with open(f) as fp:\n",
    "            data = yaml.safe_load(fp)\n",
    "            n_exp = len(data.get('experiments', {}))\n",
    "            print(f'  - {f.stem}: {n_exp} experiments')\n",
    "\n",
    "\n",
    "def quick_test():\n",
    "    \"\"\"Run quick test (first 3 experiments).\"\"\"\n",
    "    print('\\n🚀 Quick Test: Running first 3 baseline experiments on WESAD')\n",
    "    \n",
    "    cmd = [\n",
    "        'python', 'experiments/run_experiments.py',\n",
    "        '--scenario', 'baseline',\n",
    "        '--tags', 'tier1',\n",
    "        '--datasets', 'wesad',\n",
    "        '--n_experiments', '1',\n",
    "        '--device', DEVICE,\n",
    "        '--auto'\n",
    "    ]\n",
    "    \n",
    "    subprocess.run(cmd, cwd=str(PROJECT_DIR))\n",
    "\n",
    "\n",
    "def show_last_results():\n",
    "    \"\"\"Show last run results.\"\"\"\n",
    "    if results_file.exists():\n",
    "        with open(results_file) as f:\n",
    "            results = json.load(f)\n",
    "        \n",
    "        df = pd.DataFrame(results['results'])\n",
    "        print('\\n📊 Last Run Results')\n",
    "        print(df.to_string())\n",
    "    else:\n",
    "        print('No results available')\n",
    "\n",
    "\n",
    "print('✅ Utilities loaded')\n",
    "print('\\nUsage:')\n",
    "print('  show_scenarios()      # List all scenarios')\n",
    "print('  quick_test()          # Run quick test')\n",
    "print('  show_last_results()   # Show last results')\n",
    "print('  quick_update_menu()   # Update repository')"
   ]
  },
  {
   "cell_type": "markdown",
   "id": "532dcfc8",
   "metadata": {
    "id": "section-09"
   },
   "source": [
    "## 9️⃣ EXAMPLES"
   ]
  },
  {
   "cell_type": "code",
   "execution_count": null,
   "id": "6812eb70",
   "metadata": {
    "id": "examples"
   },
   "outputs": [],
   "source": [
    "# ============================================================================\n",
    "# EXAMPLE CONFIGURATIONS\n",
    "# ============================================================================\n",
    "\n",
    "print(\"📝 Example Configurations (Run in Section 4):\\n\")\n",
    "\n",
    "print(\"Example 1: Quick test (1 experiment)\")\n",
    "print(\"\"\"\n",
    "SCENARIO = 'baseline'\n",
    "TAGS = 'tier1'\n",
    "DATASETS = 'wesad'\n",
    "N_EXPERIMENTS = 1\n",
    "AUTO_MODE = True\n",
    "\"\"\")\n",
    "\n",
    "print(\"\\nExample 2: All baseline on WESAD\")\n",
    "print(\"\"\"\n",
    "SCENARIO = 'baseline'\n",
    "TAGS = 'tier1'\n",
    "DATASETS = 'wesad'\n",
    "N_EXPERIMENTS = None\n",
    "AUTO_MODE = True\n",
    "\"\"\")\n",
    "\n",
    "print(\"\\nExample 3: DP experiments\")\n",
    "print(\"\"\"\n",
    "SCENARIO = 'dp'\n",
    "TAGS = 'tier1'\n",
    "DATASETS = 'wesad'\n",
    "N_EXPERIMENTS = None\n",
    "AUTO_MODE = True\n",
    "\"\"\")\n",
    "\n",
    "print(\"\\nExample 4: All scenarios (long run)\")\n",
    "print(\"\"\"\n",
    "SCENARIO = 'all'\n",
    "TAGS = 'tier1'\n",
    "DATASETS = None\n",
    "N_EXPERIMENTS = None\n",
    "AUTO_MODE = True\n",
    "\"\"\")\n",
    "\n",
    "print(\"\\nExample 5: Dry run (see commands)\")\n",
    "print(\"\"\"\n",
    "SCENARIO = 'baseline'\n",
    "TAGS = 'tier1'\n",
    "DATASETS = 'wesad'\n",
    "DRY_RUN = True\n",
    "AUTO_MODE = True\n",
    "\"\"\")"
   ]
  }
 ],
 "metadata": {
  "accelerator": "GPU",
  "colab": {
   "gpuType": "T4",
   "provenance": []
  },
  "kernelspec": {
   "display_name": "Python 3",
   "name": "python3"
  },
  "language_info": {
   "name": "python",
   "version": "3.10.12"
  }
 },
 "nbformat": 4,
 "nbformat_minor": 5
}
