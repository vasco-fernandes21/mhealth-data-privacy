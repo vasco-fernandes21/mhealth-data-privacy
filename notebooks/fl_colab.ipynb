{
  "cells": [
    {
      "cell_type": "markdown",
      "metadata": {},
      "source": [
        "# Federated Learning Testing (Colab)\n",
        "\n",
        "This notebook clones the repository and runs Federated Learning (simulation) on Sleep-EDF or WESAD.\n",
        "\n",
        "## Features\n",
        "- Choose dataset (Sleep-EDF or WESAD)\n",
        "- Configure FL (clients, rounds, seed)\n",
        "- Optional: link data from Google Drive\n",
        "- Runs training and visualizes results\n",
        "\n",
        "Run all cells from top to bottom.\n"
      ]
    },
    {
      "cell_type": "code",
      "execution_count": null,
      "metadata": {},
      "outputs": [],
      "source": [
        "# =========================================\n",
        "# Federated Learning Simulation (Colab)\n",
        "# =========================================\n",
        "\n",
        "# --- 0) Install dependencies ---\n",
        "!pip install -q \"protobuf==5.29.1\" \"cryptography<44\"\n",
        "!pip install -q \"flwr==1.7.0\" \"ray==2.12.0\" seaborn scikit-learn matplotlib\n",
        "\n",
        "# --- 1) Clone repo ---\n",
        "import os\n",
        "from pathlib import Path\n",
        "import shutil\n",
        "\n",
        "repo_path = Path(\"/content/mhealth-data-privacy\")\n",
        "\n",
        "if not repo_path.exists():\n",
        "    !git clone https://github.com/vasco-fernandes21/mhealth-data-privacy.git {repo_path}\n",
        "\n",
        "%cd {repo_path}\n",
        "print(\"Repo ready:\", os.getcwd())\n"
      ]
    },
    {
      "cell_type": "code",
      "execution_count": null,
      "metadata": {},
      "outputs": [],
      "source": [
        "# --- 2) Configuration ---\n",
        "DATASET = \"sleep-edf\"   # \"sleep-edf\" or \"wesad\"\n",
        "NUM_CLIENTS = 3\n",
        "NUM_ROUNDS = 5\n",
        "TRAIN_SEED = 42\n",
        "USE_DRIVE_DATA = True   # Link dataset from Google Drive\n",
        "\n",
        "os.environ[\"NUM_CLIENTS\"] = str(NUM_CLIENTS)\n",
        "os.environ[\"NUM_ROUNDS\"] = str(NUM_ROUNDS)\n",
        "os.environ[\"TRAIN_SEED\"] = str(TRAIN_SEED)\n",
        "\n",
        "print(\"Configuration:\", DATASET, NUM_CLIENTS, NUM_ROUNDS, TRAIN_SEED)\n"
      ]
    },
    {
      "cell_type": "code",
      "execution_count": null,
      "metadata": {},
      "outputs": [],
      "source": [
        "# --- 3) Optional: link Google Drive data ---\n",
        "if USE_DRIVE_DATA:\n",
        "    from google.colab import drive\n",
        "    drive.mount('/content/drive')\n",
        "\n",
        "    drive_base = \"/content/drive/MyDrive/mhealth-data/data/processed\"\n",
        "    repo_proc = repo_path / \"data/processed\"\n",
        "    os.makedirs(repo_proc, exist_ok=True)\n",
        "\n",
        "    if DATASET == \"sleep-edf\":\n",
        "        src = f\"{drive_base}/sleep-edf\"\n",
        "        dst = repo_proc / \"sleep-edf\"\n",
        "    else:\n",
        "        src = f\"{drive_base}/wesad\"\n",
        "        dst = repo_proc / \"wesad\"\n",
        "\n",
        "    # Remove existing folder/symlink\n",
        "    if dst.is_symlink() or dst.exists():\n",
        "        if dst.is_symlink():\n",
        "            dst.unlink()\n",
        "        else:\n",
        "            shutil.rmtree(dst)\n",
        "\n",
        "    os.symlink(src, dst)\n",
        "    print(\"Data linked:\", dst, \"->\", src)\n"
      ]
    },
    {
      "cell_type": "code",
      "execution_count": null,
      "metadata": {},
      "outputs": [],
      "source": [
        "# --- 4) Run FL training (direct import) ---\n",
        "import sys\n",
        "import time\n",
        "repo_root = repo_path\n",
        "sys.path.insert(0, str(repo_root))\n",
        "\n",
        "if DATASET == \"sleep-edf\":\n",
        "    from src.train.sleep_edf.federated_learning.train_fl import main as fl_main\n",
        "else:\n",
        "    from src.train.wesad.federated_learning.train_fl import main as fl_main\n",
        "\n",
        "print(\"\\nStarting Federated Learning...\")\n",
        "t0 = time.time()\n",
        "results = fl_main()\n",
        "t1 = time.time()\n",
        "print(f\"FL training finished in {t1-t0:.1f}s\")\n"
      ]
    },
    {
      "cell_type": "code",
      "execution_count": null,
      "metadata": {},
      "outputs": [],
      "source": [
        "# --- 5) Load results and visualize ---\n",
        "import json\n",
        "import numpy as np\n",
        "import seaborn as sns\n",
        "import matplotlib.pyplot as plt\n",
        "\n",
        "if results:\n",
        "    print(\"\\nFinal metrics:\")\n",
        "    for k in [\"accuracy\", \"f1_score\", \"precision\", \"recall\", \"num_clients\", \"rounds\", \"training_time\"]:\n",
        "        if k in results:\n",
        "            print(f\"  {k}: {results[k]}\")\n",
        "\n",
        "    cm = np.array(results[\"confusion_matrix\"])\n",
        "    class_names = results[\"class_names\"]\n",
        "\n",
        "    plt.figure(figsize=(8,6))\n",
        "    sns.heatmap(cm, annot=True, fmt='d', cmap='Blues',\n",
        "                xticklabels=class_names, yticklabels=class_names)\n",
        "    plt.title(f\"Confusion Matrix - {DATASET.upper()} FL ({NUM_CLIENTS} clients)\")\n",
        "    plt.xlabel(\"Predicted\")\n",
        "    plt.ylabel(\"Actual\")\n",
        "    plt.tight_layout()\n",
        "    plt.show()\n",
        "else:\n",
        "    print(\"No results found.\")\n"
      ]
    }
  ],
  "metadata": {
    "language_info": {
      "name": "python"
    }
  },
  "nbformat": 4,
  "nbformat_minor": 2
}
