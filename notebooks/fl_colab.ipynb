{
  "cells": [
    {
      "cell_type": "markdown",
      "metadata": {},
      "source": [
        "# Federated Learning Testing (Colab)\n",
        "\n",
        "This notebook clones the repository and runs Federated Learning (simulation) on Sleep-EDF or WESAD.\n",
        "\n",
        "## Features\n",
        "- Choose dataset (Sleep-EDF or WESAD)\n",
        "- Configure FL (clients, rounds, seed)\n",
        "- Optional: link data from Google Drive\n",
        "- Runs training and visualizes results\n",
        "\n",
        "Run all cells from top to bottom.\n"
      ]
    },
    {
      "cell_type": "code",
      "execution_count": null,
      "metadata": {},
      "outputs": [],
      "source": [
        "# 1) Setup (install deps and clone repo)\n",
        "!pip install -q flwr==1.7.0 ray==2.12.0 seaborn scikit-learn\n",
        "\n",
        "import os, sys, shutil, json\n",
        "from pathlib import Path\n",
        "\n",
        "# Clone repo\n",
        "if not Path('/content/mhealth-data-privacy').exists():\n",
        "    !git clone https://github.com/vasco-fernandes21/mhealth-data-privacy.git /content/mhealth-data-privacy\n",
        "\n",
        "%cd /content/mhealth-data-privacy\n",
        "print(\"Repo ready:\", os.getcwd())\n"
      ]
    },
    {
      "cell_type": "code",
      "execution_count": null,
      "metadata": {},
      "outputs": [],
      "source": [
        "# 2) Configuration\n",
        "DATASET = \"sleep-edf\"  # \"sleep-edf\" or \"wesad\"\n",
        "NUM_CLIENTS = 3\n",
        "NUM_ROUNDS = 5\n",
        "TRAIN_SEED = 42\n",
        "\n",
        "os.environ[\"NUM_CLIENTS\"] = str(NUM_CLIENTS)\n",
        "os.environ[\"NUM_ROUNDS\"] = str(NUM_ROUNDS)\n",
        "os.environ[\"TRAIN_SEED\"] = str(TRAIN_SEED)\n",
        "\n",
        "print(\"Config:\", DATASET, NUM_CLIENTS, NUM_ROUNDS, TRAIN_SEED)\n"
      ]
    },
    {
      "cell_type": "code",
      "execution_count": null,
      "metadata": {},
      "outputs": [],
      "source": [
        "# 3) Optional: link Google Drive data to repo\n",
        "USE_DRIVE_DATA = True\n",
        "\n",
        "if USE_DRIVE_DATA:\n",
        "    from google.colab import drive\n",
        "    drive.mount('/content/drive')\n",
        "\n",
        "    drive_base = \"/content/drive/MyDrive/mhealth-data/data/processed\"\n",
        "    repo_proc = \"/content/mhealth-data-privacy/data/processed\"\n",
        "    os.makedirs(\"/content/mhealth-data-privacy/data\", exist_ok=True)\n",
        "\n",
        "    if DATASET == \"sleep-edf\":\n",
        "        src = f\"{drive_base}/sleep-edf\"\n",
        "        dst = f\"{repo_proc}/sleep-edf\"\n",
        "    else:\n",
        "        src = f\"{drive_base}/wesad\"\n",
        "        dst = f\"{repo_proc}/wesad\"\n",
        "\n",
        "    # Clean destination and link\n",
        "    if os.path.islink(dst) or os.path.exists(dst):\n",
        "        try:\n",
        "            if os.path.islink(dst):\n",
        "                os.unlink(dst)\n",
        "            else:\n",
        "                shutil.rmtree(dst)\n",
        "        except Exception as e:\n",
        "            print(\"Warn when removing:\", e)\n",
        "\n",
        "    os.makedirs(repo_proc, exist_ok=True)\n",
        "    !ln -sf \"{src}\" \"{dst}\"\n",
        "    print(\"Data linked:\", dst, \"->\", src)\n"
      ]
    },
    {
      "cell_type": "code",
      "execution_count": null,
      "metadata": {},
      "outputs": [],
      "source": [
        "# 4) Run FL training\n",
        "import subprocess, time\n",
        "\n",
        "if DATASET == \"sleep-edf\":\n",
        "    script_path = \"src/train/sleep-edf/federated-learning/train_fl.py\"\n",
        "    results_dir = f\"models/sleep-edf/fl/fl_clients{NUM_CLIENTS}\"\n",
        "    results_json = f\"{results_dir}/results_sleep_edf_fl.json\"\n",
        "else:\n",
        "    script_path = \"src/train/wesad/federated-learning/train_fl.py\"\n",
        "    results_dir = f\"models/wesad/fl/fl_clients{NUM_CLIENTS}\"\n",
        "    results_json = f\"{results_dir}/results_wesad_fl.json\"\n",
        "\n",
        "print(\"Running:\", script_path)\n",
        "t0 = time.time()\n",
        "proc = subprocess.run([sys.executable, script_path], text=True, capture_output=True)\n",
        "t1 = time.time()\n",
        "\n",
        "print(\"Return code:\", proc.returncode, \"| Time:\", f\"{t1-t0:.1f}s\")\n",
        "print(\"STDOUT:\\n\", proc.stdout[:2000])\n",
        "if proc.stderr:\n",
        "    print(\"\\nSTDERR (head):\\n\", proc.stderr[:2000])\n"
      ]
    },
    {
      "cell_type": "code",
      "execution_count": null,
      "metadata": {},
      "outputs": [],
      "source": [
        "# 5) Load results and visualize\n",
        "import numpy as np\n",
        "import seaborn as sns\n",
        "import matplotlib.pyplot as plt\n",
        "from pathlib import Path\n",
        "\n",
        "if Path(results_json).exists():\n",
        "    with open(results_json, \"r\") as f:\n",
        "        res = json.load(f)\n",
        "\n",
        "    print(\"Final metrics:\")\n",
        "    for k in [\"accuracy\", \"f1_score\", \"precision\", \"recall\", \"num_clients\", \"rounds\", \"training_time\"]:\n",
        "        if k in res:\n",
        "            print(f\"  {k}: {res[k]}\")\n",
        "    cm = np.array(res[\"confusion_matrix\"]) \n",
        "    class_names = res[\"class_names\"]\n",
        "\n",
        "    plt.figure(figsize=(8,6))\n",
        "    sns.heatmap(cm, annot=True, fmt='d', cmap='Blues', \n",
        "                xticklabels=class_names, yticklabels=class_names)\n",
        "    plt.title(f\"Confusion Matrix - {DATASET.upper()} FL ({NUM_CLIENTS} clients)\")\n",
        "    plt.xlabel(\"Predicted\"); plt.ylabel(\"Actual\")\n",
        "    plt.tight_layout(); plt.show()\n",
        "else:\n",
        "    print(\"Results not found:\", results_json)\n"
      ]
    }
  ],
  "metadata": {
    "language_info": {
      "name": "python"
    }
  },
  "nbformat": 4,
  "nbformat_minor": 2
}
