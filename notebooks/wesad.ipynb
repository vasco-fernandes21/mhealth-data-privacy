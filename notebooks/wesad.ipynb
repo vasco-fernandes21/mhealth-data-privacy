{
  "cells": [
    {
      "cell_type": "markdown",
      "metadata": {},
      "source": "# WESAD Training - Google Colab\n\nThis notebook trains PyTorch models for binary stress classification using the WESAD dataset.\n\n## Features:\n- \u2705 **Baseline**: Optimized LSTM-only model\n- \u2705 **DP**: Differential Privacy with Opacus\n\n## Requirements:\n- Google Colab with GPU enabled\n- Data in Google Drive: `mydrive/mhealth-data/data/processed/wesad/`"
    },
    {
      "cell_type": "markdown",
      "metadata": {},
      "source": "## 1. Initial Setup"
    },
    {
      "cell_type": "code",
      "execution_count": null,
      "metadata": {},
      "outputs": [],
      "source": "# Install dependencies\n!pip install -q torch torchvision torchaudio --index-url https://download.pytorch.org/whl/cu118\n!pip install -q numpy pandas scikit-learn matplotlib seaborn opacus\n\n# Clone repository\n!git clone https://github.com/vasco-fernandes21/mhealth-data-privacy.git\nimport sys\nsys.path.append('/content/mhealth-data-privacy')\nsys.path.append('/content/mhealth-data-privacy/src')\n\nprint('\u2705 Setup complete')"
    },
    {
      "cell_type": "code",
      "execution_count": null,
      "metadata": {},
      "outputs": [],
      "source": "# Mount Google Drive\nfrom google.colab import drive\nimport os\n\ndrive.mount('/content/drive')\ndata_path = '/content/drive/MyDrive/mhealth-data/data/processed/wesad'\n\nif os.path.exists(data_path):\n    print(f'\u2705 Data found')\nelse:\n    print(f'\u274c Data not found')"
    },
    {
      "cell_type": "markdown",
      "metadata": {},
      "source": "## 2. Train Baseline"
    },
    {
      "cell_type": "code",
      "execution_count": null,
      "metadata": {},
      "outputs": [],
      "source": "!python /content/mhealth-data-privacy/src/train/wesad/train_baseline.py"
    },
    {
      "cell_type": "markdown",
      "metadata": {},
      "source": "## 3. Train DP Model"
    },
    {
      "cell_type": "code",
      "execution_count": null,
      "metadata": {},
      "outputs": [],
      "source": "!python /content/mhealth-data-privacy/src/train/wesad/differential_privacy/train_dp.py"
    },
    {
      "cell_type": "markdown",
      "metadata": {},
      "source": "## 4. Setup Data Paths"
    },
    {
      "cell_type": "code",
      "execution_count": null,
      "metadata": {},
      "outputs": [],
      "source": "# Setup directories and symlink\nimport shutil\n\nrepo_data_dir = '/content/mhealth-data-privacy/data/processed/wesad'\ndrive_data_dir = '/content/drive/MyDrive/mhealth-data/data/processed/wesad'\n\n# Create symlink\nos.makedirs('/content/mhealth-data-privacy/data/processed', exist_ok=True)\nif os.path.exists(repo_data_dir):\n    if os.path.islink(repo_data_dir):\n        os.unlink(repo_data_dir)\n    else:\n        shutil.rmtree(repo_data_dir)\n\n!ln -sf $drive_data_dir $repo_data_dir\nprint(f'\u2705 Data linked: {repo_data_dir} -> {drive_data_dir}')"
    },
    {
      "cell_type": "markdown",
      "metadata": {},
      "source": "## 5. Analyze Results"
    },
    {
      "cell_type": "code",
      "execution_count": null,
      "metadata": {},
      "outputs": [],
      "source": "import json\nimport matplotlib.pyplot as plt\nimport seaborn as sns\nimport numpy as np\n\n# Load results\nbaseline_path = '/content/mhealth-data-privacy/models/wesad/baseline/results_wesad_baseline.json'\ndp_path = '/content/mhealth-data-privacy/models/wesad/dp/results_wesad_dp.json'\n\nwith open(baseline_path) as f:\n    baseline = json.load(f)\nwith open(dp_path) as f:\n    dp = json.load(f)\n\n# Print comparison\nprint('\ud83d\udcca RESULTS COMPARISON')\nprint('=' * 70)\nprint(f\"{'Metric':<20} {'Baseline':<15} {'DP':<15} {'Degradation':<15}\")\nprint('-' * 70)\n\nfor metric in ['accuracy', 'precision', 'recall', 'f1_score']:\n    b_val = baseline[metric]\n    d_val = dp[metric]\n    deg = (b_val - d_val) / b_val * 100\n    print(f\"{metric.capitalize():<20} {b_val:.4f}        {d_val:.4f}        {deg:.2f}%\")\n\nprint(f\"\\nPrivacy: \u03b5={dp['dp_params']['final_epsilon']:.2f}, \u03b4={dp['dp_params']['delta']}\")\n\ndeg_pct = (baseline['accuracy'] - dp['accuracy']) / baseline['accuracy'] * 100\nstatus = '\u2705 Good' if deg_pct <= 20 else '\u26a0\ufe0f High'\nprint(f'\\nPrivacy-Utility Trade-off: {status} ({deg_pct:.2f}% degradation)')"
    },
    {
      "cell_type": "code",
      "execution_count": null,
      "metadata": {},
      "outputs": [],
      "source": "# Confusion matrices\nfig, (ax1, ax2) = plt.subplots(1, 2, figsize=(14, 5))\n\ncm_b = np.array(baseline['confusion_matrix'])\ncm_d = np.array(dp['confusion_matrix'])\nlabels = baseline['class_names']\n\nsns.heatmap(cm_b, annot=True, fmt='d', cmap='Blues', xticklabels=labels, yticklabels=labels, ax=ax1)\nax1.set_title(f\"Baseline (Acc: {baseline['accuracy']*100:.2f}%)\")\nax1.set_xlabel('Predicted')\nax1.set_ylabel('Actual')\n\nsns.heatmap(cm_d, annot=True, fmt='d', cmap='Reds', xticklabels=labels, yticklabels=labels, ax=ax2)\nax2.set_title(f\"DP (Acc: {dp['accuracy']*100:.2f}%, \u03b5={dp['dp_params']['final_epsilon']:.2f})\")\nax2.set_xlabel('Predicted')\nax2.set_ylabel('Actual')\n\nplt.tight_layout()\nplt.show()"
    },
    {
      "cell_type": "code",
      "execution_count": null,
      "metadata": {},
      "outputs": [],
      "source": "# Training history\nbaseline_hist_path = '/content/mhealth-data-privacy/models/wesad/baseline/history_wesad_baseline.json'\ndp_hist_path = '/content/mhealth-data-privacy/models/wesad/dp/history_wesad_dp.json'\n\nif os.path.exists(baseline_hist_path) and os.path.exists(dp_hist_path):\n    with open(baseline_hist_path) as f:\n        b_hist = json.load(f)\n    with open(dp_hist_path) as f:\n        d_hist = json.load(f)\n    \n    fig, ((ax1, ax2), (ax3, ax4)) = plt.subplots(2, 2, figsize=(14, 10))\n    \n    # Baseline\n    ax1.plot(b_hist['loss'], label='Train', color='blue')\n    ax1.plot(b_hist['val_loss'], label='Val', color='lightblue')\n    ax1.set_title('Baseline: Loss')\n    ax1.legend()\n    ax1.grid(True, alpha=0.3)\n    \n    ax2.plot(b_hist['accuracy'], label='Train', color='green')\n    ax2.plot(b_hist['val_accuracy'], label='Val', color='lightgreen')\n    ax2.set_title('Baseline: Accuracy')\n    ax2.legend()\n    ax2.grid(True, alpha=0.3)\n    \n    # DP\n    ax3.plot(d_hist['loss'], label='Train', color='red')\n    ax3.plot(d_hist['val_loss'], label='Val', color='lightcoral')\n    ax3.set_title('DP: Loss')\n    ax3.legend()\n    ax3.grid(True, alpha=0.3)\n    \n    ax4.plot(d_hist['accuracy'], label='Train', color='purple')\n    ax4.plot(d_hist['val_accuracy'], label='Val', color='plum')\n    ax4.set_title('DP: Accuracy')\n    ax4.legend()\n    ax4.grid(True, alpha=0.3)\n    \n    plt.tight_layout()\n    plt.show()\n    \n    # Epsilon evolution\n    if 'epsilon' in d_hist:\n        plt.figure(figsize=(10, 5))\n        plt.plot(d_hist['epsilon'], color='orange', linewidth=2)\n        plt.axhline(y=dp['dp_params']['target_epsilon'], color='r', linestyle='--', label=f\"Target \u03b5={dp['dp_params']['target_epsilon']}\")\n        plt.title('Privacy Budget Evolution')\n        plt.xlabel('Epoch')\n        plt.ylabel('Epsilon (\u03b5)')\n        plt.legend()\n        plt.grid(True, alpha=0.3)\n        plt.show()"
    },
    {
      "cell_type": "markdown",
      "metadata": {},
      "source": "## Summary\n\n### Architecture:\n- LSTM-only: Bidirectional LSTM (2 layers, 64 units)\n- Parameters: ~211K\n- Normalization: GroupNorm (DP-compatible)\n\n### Results:\n- **Baseline**: ~82-83% accuracy\n- **DP**: ~66-70% accuracy, \u03b5\u22648.0\n- **Trade-off**: ~15-20% degradation\n\n### Next Steps:\n1. \u2705 Baseline and DP trained\n2. \ud83d\udd04 Implement Federated Learning\n3. \ud83d\udd04 Compare all approaches\n\n---\n**SIDM MSc - MHealth Data Privacy** \ud83d\ude80"
    }
  ],
  "metadata": {
    "kernelspec": {
      "display_name": "Python 3",
      "language": "python",
      "name": "python3"
    }
  },
  "nbformat": 4,
  "nbformat_minor": 4
}