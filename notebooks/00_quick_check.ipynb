{
  "cells": [
    {
      "cell_type": "markdown",
      "metadata": {},
      "source": [
        "# Quick Environment Check\n",
        "\n",
        "Este notebook verifica rapidamente se o ambiente está configurado corretamente.\n",
        "\n",
        "**Use este notebook quando voltar ao projeto para verificar se tudo está funcionando.**\n"
      ]
    },
    {
      "cell_type": "code",
      "execution_count": null,
      "metadata": {},
      "outputs": [],
      "source": [
        "# ============================================================================\n",
        "# Quick Environment Check\n",
        "# ============================================================================\n",
        "\n",
        "import os\n",
        "import sys\n",
        "\n",
        "print(\"=\"*70)\n",
        "print(\"QUICK ENVIRONMENT CHECK\")\n",
        "print(\"=\"*70)\n",
        "\n",
        "# Check if we're in the right directory\n",
        "if os.path.exists('src') and os.path.exists('requirements.txt'):\n",
        "    print(\"✅ Project directory: OK\")\n",
        "else:\n",
        "    print(\"❌ Project directory: NOT FOUND\")\n",
        "    print(\"   Run 00_deepnote_setup.ipynb first\")\n",
        "\n",
        "# Check if modules can be imported\n",
        "try:\n",
        "    from src.preprocessing import sleep_edf, wesad\n",
        "    from src.models import lstm_baseline\n",
        "    print(\"✅ Modules: OK\")\n",
        "except ImportError as e:\n",
        "    print(f\"❌ Modules: NOT FOUND ({e})\")\n",
        "    print(\"   Run 00_deepnote_setup.ipynb first\")\n",
        "\n",
        "# Check data structure\n",
        "data_dirs = ['./data/raw', './data/processed', './data/models', './data/results']\n",
        "for dir_path in data_dirs:\n",
        "    if os.path.exists(dir_path):\n",
        "        print(f\"✅ {dir_path}: OK\")\n",
        "    else:\n",
        "        print(f\"⚠️  {dir_path}: NOT FOUND (will be created when needed)\")\n",
        "\n",
        "# Check if data exists\n",
        "if os.path.exists('./data/processed/sleep-edf'):\n",
        "    sleep_files = len(os.listdir('./data/processed/sleep-edf'))\n",
        "    print(f\"✅ Sleep-EDF processed: {sleep_files} files\")\n",
        "else:\n",
        "    print(\"⚠️  Sleep-EDF processed: NOT FOUND\")\n",
        "\n",
        "if os.path.exists('./data/processed/wesad'):\n",
        "    wesad_files = len(os.listdir('./data/processed/wesad'))\n",
        "    print(f\"✅ WESAD processed: {wesad_files} files\")\n",
        "else:\n",
        "    print(\"⚠️  WESAD processed: NOT FOUND\")\n",
        "\n",
        "print(\"\\n\" + \"=\"*70)\n",
        "print(\"CHECK COMPLETE\")\n",
        "print(\"=\"*70)\n"
      ]
    }
  ],
  "metadata": {
    "language_info": {
      "name": "python"
    }
  },
  "nbformat": 4,
  "nbformat_minor": 2
}
