{
 "cells": [
  {
   "cell_type": "markdown",
   "metadata": {
    "id": "4uH9IjkWqTEJ"
   },
   "source": [
    "# Sleep-EDF PyTorch Training - Google Colab\n",
    "\n",
    "This notebook trains an optimized PyTorch CNN+LSTM model for sleep stage classification using the Sleep-EDF dataset.\n",
    "\n",
    "## Features:\n",
    "- Optimized CNN+LSTM model (target: >=87% accuracy)\n",
    "- Efficient data loading for large datasets\n",
    "- Clean logs during training (no emojis)\n",
    "- Early stopping and learning rate scheduling\n",
    "- Memory and speed optimizations\n",
    "- Automatic hardware acceleration (CUDA > MPS > CPU)\n",
    "\n",
    "## Requirements:\n",
    "- Google Colab with GPU enabled\n",
    "- Data in Google Drive: `mydrive/mhealth-data/data/processed/sleep-edf/`\n"
   ]
  },
  {
   "cell_type": "markdown",
   "metadata": {
    "id": "a8QusZrmqTEK"
   },
   "source": [
    "## 1. Initial Setup\n"
   ]
  },
  {
   "cell_type": "markdown",
   "metadata": {},
   "source": []
  },
  {
   "cell_type": "code",
   "execution_count": null,
   "metadata": {
    "colab": {
     "base_uri": "https://localhost:8080/"
    },
    "id": "OcdFAe9nqTEL",
    "outputId": "e78ceb41-b63c-463e-c785-66f9d5417019",
    "vscode": {
     "languageId": "plaintext"
    }
   },
   "outputs": [
    {
     "name": "stdout",
     "output_type": "stream",
     "text": [
      "Looking in indexes: https://download.pytorch.org/whl/cu118\n",
      "Requirement already satisfied: torch in /usr/local/lib/python3.12/dist-packages (2.8.0+cu126)\n",
      "Requirement already satisfied: torchvision in /usr/local/lib/python3.12/dist-packages (0.23.0+cu126)\n",
      "Requirement already satisfied: torchaudio in /usr/local/lib/python3.12/dist-packages (2.8.0+cu126)\n",
      "Requirement already satisfied: filelock in /usr/local/lib/python3.12/dist-packages (from torch) (3.20.0)\n",
      "Requirement already satisfied: typing-extensions>=4.10.0 in /usr/local/lib/python3.12/dist-packages (from torch) (4.15.0)\n",
      "Requirement already satisfied: setuptools in /usr/local/lib/python3.12/dist-packages (from torch) (75.2.0)\n",
      "Requirement already satisfied: sympy>=1.13.3 in /usr/local/lib/python3.12/dist-packages (from torch) (1.13.3)\n",
      "Requirement already satisfied: networkx in /usr/local/lib/python3.12/dist-packages (from torch) (3.5)\n",
      "Requirement already satisfied: jinja2 in /usr/local/lib/python3.12/dist-packages (from torch) (3.1.6)\n",
      "Requirement already satisfied: fsspec in /usr/local/lib/python3.12/dist-packages (from torch) (2025.3.0)\n",
      "Requirement already satisfied: nvidia-cuda-nvrtc-cu12==12.6.77 in /usr/local/lib/python3.12/dist-packages (from torch) (12.6.77)\n",
      "Requirement already satisfied: nvidia-cuda-runtime-cu12==12.6.77 in /usr/local/lib/python3.12/dist-packages (from torch) (12.6.77)\n",
      "Requirement already satisfied: nvidia-cuda-cupti-cu12==12.6.80 in /usr/local/lib/python3.12/dist-packages (from torch) (12.6.80)\n",
      "Requirement already satisfied: nvidia-cudnn-cu12==9.10.2.21 in /usr/local/lib/python3.12/dist-packages (from torch) (9.10.2.21)\n",
      "Requirement already satisfied: nvidia-cublas-cu12==12.6.4.1 in /usr/local/lib/python3.12/dist-packages (from torch) (12.6.4.1)\n",
      "Requirement already satisfied: nvidia-cufft-cu12==11.3.0.4 in /usr/local/lib/python3.12/dist-packages (from torch) (11.3.0.4)\n",
      "Requirement already satisfied: nvidia-curand-cu12==10.3.7.77 in /usr/local/lib/python3.12/dist-packages (from torch) (10.3.7.77)\n",
      "Requirement already satisfied: nvidia-cusolver-cu12==11.7.1.2 in /usr/local/lib/python3.12/dist-packages (from torch) (11.7.1.2)\n",
      "Requirement already satisfied: nvidia-cusparse-cu12==12.5.4.2 in /usr/local/lib/python3.12/dist-packages (from torch) (12.5.4.2)\n",
      "Requirement already satisfied: nvidia-cusparselt-cu12==0.7.1 in /usr/local/lib/python3.12/dist-packages (from torch) (0.7.1)\n",
      "Requirement already satisfied: nvidia-nccl-cu12==2.27.3 in /usr/local/lib/python3.12/dist-packages (from torch) (2.27.3)\n",
      "Requirement already satisfied: nvidia-nvtx-cu12==12.6.77 in /usr/local/lib/python3.12/dist-packages (from torch) (12.6.77)\n",
      "Requirement already satisfied: nvidia-nvjitlink-cu12==12.6.85 in /usr/local/lib/python3.12/dist-packages (from torch) (12.6.85)\n",
      "Requirement already satisfied: nvidia-cufile-cu12==1.11.1.6 in /usr/local/lib/python3.12/dist-packages (from torch) (1.11.1.6)\n",
      "Requirement already satisfied: triton==3.4.0 in /usr/local/lib/python3.12/dist-packages (from torch) (3.4.0)\n",
      "Requirement already satisfied: numpy in /usr/local/lib/python3.12/dist-packages (from torchvision) (2.0.2)\n",
      "Requirement already satisfied: pillow!=8.3.*,>=5.3.0 in /usr/local/lib/python3.12/dist-packages (from torchvision) (11.3.0)\n",
      "Requirement already satisfied: mpmath<1.4,>=1.1.0 in /usr/local/lib/python3.12/dist-packages (from sympy>=1.13.3->torch) (1.3.0)\n",
      "Requirement already satisfied: MarkupSafe>=2.0 in /usr/local/lib/python3.12/dist-packages (from jinja2->torch) (3.0.3)\n",
      "Requirement already satisfied: numpy in /usr/local/lib/python3.12/dist-packages (2.0.2)\n",
      "Requirement already satisfied: pandas in /usr/local/lib/python3.12/dist-packages (2.2.2)\n",
      "Requirement already satisfied: scikit-learn in /usr/local/lib/python3.12/dist-packages (1.6.1)\n",
      "Requirement already satisfied: matplotlib in /usr/local/lib/python3.12/dist-packages (3.10.0)\n",
      "Requirement already satisfied: seaborn in /usr/local/lib/python3.12/dist-packages (0.13.2)\n",
      "Requirement already satisfied: python-dateutil>=2.8.2 in /usr/local/lib/python3.12/dist-packages (from pandas) (2.9.0.post0)\n",
      "Requirement already satisfied: pytz>=2020.1 in /usr/local/lib/python3.12/dist-packages (from pandas) (2025.2)\n",
      "Requirement already satisfied: tzdata>=2022.7 in /usr/local/lib/python3.12/dist-packages (from pandas) (2025.2)\n",
      "Requirement already satisfied: scipy>=1.6.0 in /usr/local/lib/python3.12/dist-packages (from scikit-learn) (1.16.2)\n",
      "Requirement already satisfied: joblib>=1.2.0 in /usr/local/lib/python3.12/dist-packages (from scikit-learn) (1.5.2)\n",
      "Requirement already satisfied: threadpoolctl>=3.1.0 in /usr/local/lib/python3.12/dist-packages (from scikit-learn) (3.6.0)\n",
      "Requirement already satisfied: contourpy>=1.0.1 in /usr/local/lib/python3.12/dist-packages (from matplotlib) (1.3.3)\n",
      "Requirement already satisfied: cycler>=0.10 in /usr/local/lib/python3.12/dist-packages (from matplotlib) (0.12.1)\n",
      "Requirement already satisfied: fonttools>=4.22.0 in /usr/local/lib/python3.12/dist-packages (from matplotlib) (4.60.1)\n",
      "Requirement already satisfied: kiwisolver>=1.3.1 in /usr/local/lib/python3.12/dist-packages (from matplotlib) (1.4.9)\n",
      "Requirement already satisfied: packaging>=20.0 in /usr/local/lib/python3.12/dist-packages (from matplotlib) (25.0)\n",
      "Requirement already satisfied: pillow>=8 in /usr/local/lib/python3.12/dist-packages (from matplotlib) (11.3.0)\n",
      "Requirement already satisfied: pyparsing>=2.3.1 in /usr/local/lib/python3.12/dist-packages (from matplotlib) (3.2.5)\n",
      "Requirement already satisfied: six>=1.5 in /usr/local/lib/python3.12/dist-packages (from python-dateutil>=2.8.2->pandas) (1.17.0)\n",
      "Collecting pyedflib\n",
      "  Downloading pyedflib-0.1.42-cp312-cp312-manylinux_2_17_x86_64.manylinux2014_x86_64.whl.metadata (7.2 kB)\n",
      "Collecting mne\n",
      "  Downloading mne-1.10.2-py3-none-any.whl.metadata (21 kB)\n",
      "Requirement already satisfied: numpy>=1.9.1 in /usr/local/lib/python3.12/dist-packages (from pyedflib) (2.0.2)\n",
      "Requirement already satisfied: decorator in /usr/local/lib/python3.12/dist-packages (from mne) (4.4.2)\n",
      "Requirement already satisfied: jinja2 in /usr/local/lib/python3.12/dist-packages (from mne) (3.1.6)\n",
      "Requirement already satisfied: lazy-loader>=0.3 in /usr/local/lib/python3.12/dist-packages (from mne) (0.4)\n",
      "Requirement already satisfied: matplotlib>=3.7 in /usr/local/lib/python3.12/dist-packages (from mne) (3.10.0)\n",
      "Requirement already satisfied: packaging in /usr/local/lib/python3.12/dist-packages (from mne) (25.0)\n",
      "Requirement already satisfied: pooch>=1.5 in /usr/local/lib/python3.12/dist-packages (from mne) (1.8.2)\n",
      "Requirement already satisfied: scipy>=1.11 in /usr/local/lib/python3.12/dist-packages (from mne) (1.16.2)\n",
      "Requirement already satisfied: tqdm in /usr/local/lib/python3.12/dist-packages (from mne) (4.67.1)\n",
      "Requirement already satisfied: contourpy>=1.0.1 in /usr/local/lib/python3.12/dist-packages (from matplotlib>=3.7->mne) (1.3.3)\n",
      "Requirement already satisfied: cycler>=0.10 in /usr/local/lib/python3.12/dist-packages (from matplotlib>=3.7->mne) (0.12.1)\n",
      "Requirement already satisfied: fonttools>=4.22.0 in /usr/local/lib/python3.12/dist-packages (from matplotlib>=3.7->mne) (4.60.1)\n",
      "Requirement already satisfied: kiwisolver>=1.3.1 in /usr/local/lib/python3.12/dist-packages (from matplotlib>=3.7->mne) (1.4.9)\n",
      "Requirement already satisfied: pillow>=8 in /usr/local/lib/python3.12/dist-packages (from matplotlib>=3.7->mne) (11.3.0)\n",
      "Requirement already satisfied: pyparsing>=2.3.1 in /usr/local/lib/python3.12/dist-packages (from matplotlib>=3.7->mne) (3.2.5)\n",
      "Requirement already satisfied: python-dateutil>=2.7 in /usr/local/lib/python3.12/dist-packages (from matplotlib>=3.7->mne) (2.9.0.post0)\n",
      "Requirement already satisfied: platformdirs>=2.5.0 in /usr/local/lib/python3.12/dist-packages (from pooch>=1.5->mne) (4.5.0)\n",
      "Requirement already satisfied: requests>=2.19.0 in /usr/local/lib/python3.12/dist-packages (from pooch>=1.5->mne) (2.32.4)\n",
      "Requirement already satisfied: MarkupSafe>=2.0 in /usr/local/lib/python3.12/dist-packages (from jinja2->mne) (3.0.3)\n",
      "Requirement already satisfied: six>=1.5 in /usr/local/lib/python3.12/dist-packages (from python-dateutil>=2.7->matplotlib>=3.7->mne) (1.17.0)\n",
      "Requirement already satisfied: charset_normalizer<4,>=2 in /usr/local/lib/python3.12/dist-packages (from requests>=2.19.0->pooch>=1.5->mne) (3.4.3)\n",
      "Requirement already satisfied: idna<4,>=2.5 in /usr/local/lib/python3.12/dist-packages (from requests>=2.19.0->pooch>=1.5->mne) (3.10)\n",
      "Requirement already satisfied: urllib3<3,>=1.21.1 in /usr/local/lib/python3.12/dist-packages (from requests>=2.19.0->pooch>=1.5->mne) (2.5.0)\n",
      "Requirement already satisfied: certifi>=2017.4.17 in /usr/local/lib/python3.12/dist-packages (from requests>=2.19.0->pooch>=1.5->mne) (2025.10.5)\n",
      "Downloading pyedflib-0.1.42-cp312-cp312-manylinux_2_17_x86_64.manylinux2014_x86_64.whl (2.8 MB)\n",
      "\u001b[2K   \u001b[90m━━━━━━━━━━━━━━━━━━━━━━━━━━━━━━━━━━━━━━━━\u001b[0m \u001b[32m2.8/2.8 MB\u001b[0m \u001b[31m49.9 MB/s\u001b[0m eta \u001b[36m0:00:00\u001b[0m\n",
      "\u001b[?25hDownloading mne-1.10.2-py3-none-any.whl (7.4 MB)\n",
      "\u001b[2K   \u001b[90m━━━━━━━━━━━━━━━━━━━━━━━━━━━━━━━━━━━━━━━━\u001b[0m \u001b[32m7.4/7.4 MB\u001b[0m \u001b[31m149.4 MB/s\u001b[0m eta \u001b[36m0:00:00\u001b[0m\n",
      "\u001b[?25h"
     ]
    }
   ],
   "source": [
    "# Install necessary dependencies\n",
    "!pip install torch torchvision torchaudio --index-url https://download.pytorch.org/whl/cu118\n",
    "!pip install numpy pandas scikit-learn matplotlib seaborn\n",
    "!pip install pyedflib mne\n",
    "\n",
    "# Clone the repository\n",
    "!git clone https://github.com/vasco-fernandes21/mhealth-data-privacy.git\n",
    "import sys\n",
    "sys.path.append('/content/mhealth-data-privacy')\n",
    "\n",
    "print(\"Dependencies installed and repository cloned\")\n"
   ]
  },
  {
   "cell_type": "code",
   "execution_count": null,
   "metadata": {
    "id": "M5tzbzzmqTEL",
    "vscode": {
     "languageId": "plaintext"
    }
   },
   "outputs": [],
   "source": [
    "# Mount Google Drive\n",
    "from google.colab import drive\n",
    "drive.mount('/content/drive')\n",
    "\n",
    "# Check if data exists\n",
    "import os\n",
    "data_path = '/content/drive/MyDrive/mhealth-data/data/processed/sleep-edf'\n",
    "\n",
    "if os.path.exists(data_path):\n",
    "    print(f\"Data found at: {data_path}\")\n",
    "\n",
    "    # List files\n",
    "    files = os.listdir(data_path)\n",
    "    print(f\"Available files: {files}\")\n",
    "\n",
    "    # Check file sizes\n",
    "    for file in ['X_train.npy', 'y_train.npy', 'X_val.npy', 'y_val.npy', 'X_test.npy', 'y_test.npy']:\n",
    "        if file in files:\n",
    "            size = os.path.getsize(os.path.join(data_path, file))\n",
    "            print(f\"  {file}: {size / (1024*1024):.1f} MB\")\n",
    "        else:\n",
    "            print(f\"  {file} not found\")\n",
    "else:\n",
    "    print(f\"Data not found at: {data_path}\")\n",
    "    print(\"Make sure the data is in the correct path on Google Drive\")\n"
   ]
  },
  {
   "cell_type": "markdown",
   "metadata": {
    "id": "OeS6MPXsqTEL"
   },
   "source": []
  },
  {
   "cell_type": "code",
   "execution_count": null,
   "metadata": {
    "id": "wDW7GRN_qTEL",
    "vscode": {
     "languageId": "plaintext"
    }
   },
   "outputs": [],
   "source": [
    "# Run training using the repository script\n",
    "import os, shutil\n",
    "\n",
    "repo_data_dir = '/content/mhealth-data-privacy/data/processed/sleep-edf'\n",
    "drive_data_dir = '/content/drive/MyDrive/mhealth-data/data/processed/sleep-edf'\n",
    "models_dir = '/content/mhealth-data-privacy/models/sleep-edf/baseline'\n",
    "results_dir = '/content/mhealth-data-privacy/results/sleep-edf/baseline'\n",
    "\n",
    "# Ensure output directories\n",
    "os.makedirs(models_dir, exist_ok=True)\n",
    "os.makedirs(results_dir, exist_ok=True)\n",
    "\n",
    "# Create symbolic link from Drive data to expected path\n",
    "os.makedirs('/content/mhealth-data-privacy/data/processed', exist_ok=True)\n",
    "if os.path.islink(repo_data_dir) or os.path.exists(repo_data_dir):\n",
    "    try:\n",
    "        if os.path.islink(repo_data_dir):\n",
    "            os.unlink(repo_data_dir)\n",
    "        else:\n",
    "            shutil.rmtree(repo_data_dir)\n",
    "    except Exception as e:\n",
    "        print(f\"Warning when removing old destination: {e}\")\n",
    "\n",
    "# Create symlink\n",
    "!ln -sf \"$drive_data_dir\" \"$repo_data_dir\"\n",
    "print(f\"Data referenced via symlink: {repo_data_dir} -> {drive_data_dir}\")\n",
    "\n",
    "print(f\"Starting CNN+LSTM training with data from: {drive_data_dir}\")\n",
    "print(\"=\" * 80)\n",
    "\n",
    "# Run the baseline training script\n",
    "!python /content/mhealth-data-privacy/src/train/sleep-edf/train_baseline.py\n",
    "\n",
    "print(\"Training completed!\")"
   ]
  },
  {
   "cell_type": "markdown",
   "metadata": {
    "id": "swk13hraqTEL"
   },
   "source": [
    "## 3. Results Analysis\n"
   ]
  },
  {
   "cell_type": "code",
   "execution_count": null,
   "metadata": {
    "id": "7mMjIr3iqTEL",
    "vscode": {
     "languageId": "plaintext"
    }
   },
   "outputs": [],
   "source": [
    "# Load and analyze results\n",
    "import json\n",
    "import matplotlib.pyplot as plt\n",
    "import seaborn as sns\n",
    "import numpy as np\n",
    "\n",
    "# Load results\n",
    "results_path = '/content/mhealth-data-privacy/models/sleep-edf/baseline/results_sleep_edf_optimized.json'\n",
    "\n",
    "if os.path.exists(results_path):\n",
    "    with open(results_path, 'r') as f:\n",
    "        results = json.load(f)\n",
    "\n",
    "    print(\"FINAL RESULTS:\")\n",
    "    print(\"=\" * 50)\n",
    "    print(f\"Accuracy:  {results['accuracy']:.4f}\")\n",
    "    print(f\"Precision: {results['precision']:.4f}\")\n",
    "    print(f\"Recall:    {results['recall']:.4f}\")\n",
    "    print(f\"F1-Score:  {results['f1_score']:.4f}\")\n",
    "\n",
    "    # Confusion matrix\n",
    "    print(\"\\nCONFUSION MATRIX:\")\n",
    "    cm = np.array(results['confusion_matrix'])\n",
    "    class_names = results['class_names']\n",
    "\n",
    "    print(f\"{'':8s}\", end=\"\")\n",
    "    for name in class_names:\n",
    "        print(f\"{name:8s}\", end=\"\")\n",
    "    print(\"\\n{'Real ↓':8s}\", end=\"\")\n",
    "\n",
    "    for i, row in enumerate(cm):\n",
    "        print(f\"{class_names[i]:8s}\", end=\"\")\n",
    "        for val in row:\n",
    "            print(f\"{val:8d}\", end=\"\")\n",
    "        print()\n",
    "\n",
    "    # Plot confusion matrix\n",
    "    plt.figure(figsize=(10, 8))\n",
    "    sns.heatmap(cm, annot=True, fmt='d', cmap='Blues',\n",
    "                xticklabels=class_names, yticklabels=class_names)\n",
    "    plt.title('Confusion Matrix - Sleep-EDF PyTorch')\n",
    "    plt.xlabel('Predicted')\n",
    "    plt.ylabel('Actual')\n",
    "    plt.show()\n",
    "\n",
    "else:\n",
    "    print(f\"Results not found at: {results_path}\")\n",
    "    print(\"Run the training cell first\")\n"
   ]
  },
  {
   "cell_type": "markdown",
   "metadata": {
    "id": "O4V7ScBKqTEM"
   },
   "source": [
    "## Tips and Troubleshooting\n",
    "\n",
    "### Common Issues:\n",
    "\n",
    "1. **Data not found:**\n",
    "   - Check if path `mydrive/mhealth-data/data/processed/sleep-edf/` is correct\n",
    "   - Ensure all `.npy` files are present\n",
    "\n",
    "2. **GPU not available:**\n",
    "   - Go to Runtime → Change runtime type → Hardware accelerator → GPU\n",
    "   - Model will work on CPU but will be slower\n",
    "   - Automatic hardware detection: CUDA > MPS > CPU\n",
    "\n",
    "3. **Insufficient memory:**\n",
    "   - Sleep-EDF dataset is large (58MB for training)\n",
    "   - CNN+LSTM model has ~311K parameters\n",
    "   - Consider smaller batch_size if needed\n",
    "\n",
    "4. **Long training time:**\n",
    "   - First epoch always takes longer (initial loading)\n",
    "   - Logs show progress every epoch\n",
    "   - Early stopping after 8 epochs without improvement\n",
    "\n",
    "### Model Architecture:\n",
    "- **CNN**: 3 convolutional blocks for feature extraction\n",
    "- **LSTM**: Bidirectional with 2 layers (64 hidden units)\n",
    "- **Dense**: 3 fully connected layers for classification\n",
    "- **Total**: ~311K parameters\n",
    "\n",
    "### Resources Used:\n",
    "- **GPU**: Recommended for fast training\n",
    "- **RAM**: ~4GB for dataset + model\n",
    "- **Disk**: ~200MB for code + results\n",
    "\n",
    "### Next Steps:\n",
    "1. Compare with simple LSTM baseline (87% accuracy)\n",
    "2. Implement privacy techniques (DP-SGD)\n",
    "3. Test with other physiological datasets\n",
    "\n",
    "---\n",
    "\n",
    "**Notebook created for SIDM - MHealth Data Privacy project**\n"
   ]
  }
 ],
 "metadata": {
  "accelerator": "GPU",
  "colab": {
   "gpuType": "T4",
   "provenance": []
  },
  "kernelspec": {
   "display_name": "Python 3",
   "name": "python3"
  },
  "language_info": {
   "name": "python"
  }
 },
 "nbformat": 4,
 "nbformat_minor": 0
}
